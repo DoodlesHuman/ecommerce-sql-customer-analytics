{
 "cells": [
  {
   "cell_type": "code",
   "execution_count": 1,
   "id": "545df9e7-96bc-4386-a376-e8d8fa1b58c6",
   "metadata": {},
   "outputs": [],
   "source": [
    "import pandas as pd\n",
    "from faker import Faker\n",
    "import random\n",
    "import datetime\n",
    "\n",
    "fake = Faker('de_DE')"
   ]
  },
  {
   "cell_type": "code",
   "execution_count": 2,
   "id": "083ad947-bba2-4e3b-a185-c1c3820a7f22",
   "metadata": {},
   "outputs": [
    {
     "name": "stdout",
     "output_type": "stream",
     "text": [
      "customers.csv generated successfully!\n"
     ]
    }
   ],
   "source": [
    "# 1. Customers Data\n",
    "customers = []\n",
    "num_customers = 5000\n",
    "for i in range (1, num_customers + 1):\n",
    "    customers.append({\n",
    "        'customer_id' : i,\n",
    "        'join_date' : fake.date_between(start_date = '-3y', end_date = 'today'),\n",
    "        'city' : fake.city(),\n",
    "        'postal_code' : fake.postcode()\n",
    "    })\n",
    "\n",
    "customers_df = pd.DataFrame(customers)\n",
    "customers_df.to_csv('customers.csv', index=False)\n",
    "\n",
    "print(\"customers.csv generated successfully!\")"
   ]
  },
  {
   "cell_type": "code",
   "execution_count": 3,
   "id": "b76bb6bc-7311-4e98-84c8-c36fe2470129",
   "metadata": {},
   "outputs": [
    {
     "name": "stdout",
     "output_type": "stream",
     "text": [
      "customers.csv generated successfully!\n"
     ]
    }
   ],
   "source": [
    "# 2. Products Data\n",
    "\n",
    "products = []\n",
    "num_products = 100\n",
    "categories = ['Kuche', 'Badezimmer', 'Lebensmittel', 'Kleidung', 'Garten']\n",
    "for i in range(1, num_products + 1):  # 100 unique products\n",
    "    products.append({\n",
    "        'product_id' : i,\n",
    "        'product_name' : fake.word().capitalize() + ' ' + fake.word(),\n",
    "        'category' : random.choice(categories),\n",
    "        'price' : round(random.uniform(5.0, 150.0), 2),\n",
    "        'sustainability_rating' : random.randint(1, 5)\n",
    "    })\n",
    "\n",
    "products_df = pd.DataFrame(products)\n",
    "products_df.to_csv('products.csv', index = False)\n",
    "\n",
    "print(\"customers.csv generated successfully!\")"
   ]
  },
  {
   "cell_type": "code",
   "execution_count": 4,
   "id": "fc7ee7c3-5b83-4a93-923d-0a70b2008dc4",
   "metadata": {},
   "outputs": [
    {
     "name": "stdout",
     "output_type": "stream",
     "text": [
      "orders.csv successfully generated\n"
     ]
    }
   ],
   "source": [
    "# 3. Orders data generation\n",
    "\n",
    "orders = []\n",
    "num_orders = 20000\n",
    "for i in range(1, num_orders + 1): # 20000 orders so far\n",
    "    orders.append({\n",
    "        'order_id' : i,\n",
    "        'customer_id' : random.randint(1, 5000),\n",
    "        'order_date' : fake.date_between(start_date = '-3y', end_date = 'today'),\n",
    "        'total_amount' : round(random.uniform(5.0, 1000.0), 2)\n",
    "    })\n",
    "\n",
    "orders_df = pd.DataFrame(orders)\n",
    "orders_df.to_csv('orders.csv', index = False)\n",
    "\n",
    "print(\"orders.csv successfully generated\")"
   ]
  },
  {
   "cell_type": "code",
   "execution_count": 6,
   "id": "8fb02fae-cc5a-4c93-bf7e-5063feac59ef",
   "metadata": {},
   "outputs": [
    {
     "name": "stdout",
     "output_type": "stream",
     "text": [
      "order_items.csv successfully generated\n"
     ]
    }
   ],
   "source": [
    "# 4. Order Items Data Generation\n",
    "\n",
    "order_items = []\n",
    "order_item_id_counter = 1\n",
    "\n",
    "for order_id in range(1, num_orders + 1):\n",
    "    # Assuming each order has 1 to 5 different items\n",
    "    num_items_in_order = random.randint(1, 5)\n",
    "\n",
    "    # Using a set to ensure that there is no item repeating in an order\n",
    "    products_in_this_order = set()\n",
    "\n",
    "    # Randomly selecting product_ids for this order\n",
    "    while len(products_in_this_order) < num_items_in_order:\n",
    "        product_id = random.randint(1, num_products)\n",
    "        products_in_this_order.add(product_id)\n",
    "\n",
    "    # For each unique product in the order, create a record\n",
    "    for product_id in products_in_this_order:\n",
    "        order_items.append({\n",
    "            'order_item_id' : order_item_id_counter,\n",
    "            'order_id' : order_id,\n",
    "            'product_id' : product_id,\n",
    "            'quantity' : random.randint(1, 3)\n",
    "        })\n",
    "        order_item_id_counter = order_item_id_counter + 1\n",
    "        \n",
    "order_items_df = pd.DataFrame(order_items)\n",
    "\n",
    "order_items_df.to_csv('order_items.csv', index = False)\n",
    "\n",
    "print('order_items.csv successfully generated')\n",
    "    "
   ]
  },
  {
   "cell_type": "code",
   "execution_count": 15,
   "id": "cae07069-e9c3-4f94-ab3d-13bac8dc6693",
   "metadata": {},
   "outputs": [
    {
     "name": "stdout",
     "output_type": "stream",
     "text": [
      "marketing.csv successuflly generated\n"
     ]
    }
   ],
   "source": [
    "# 5. Marketing data generation\n",
    "from datetime import date, timedelta\n",
    "\n",
    "num_campaigns = 25\n",
    "marketing_data = []\n",
    "\n",
    "current_year = date.today().year\n",
    "campaign_types = ['Rabatt', 'Aktion', 'Sale', 'Angebote']\n",
    "campaign_templates = [\n",
    "    {'event': 'Oster', 'months': [3, 4]},\n",
    "    {'event': 'Sommer', 'months': [6, 7, 8]},\n",
    "    {'event': 'Herbst', 'months': [9, 10]},\n",
    "    {'event': 'Winter', 'months': [12, 1, 2]},\n",
    "    {'event': 'Black Friday', 'months': [11]},\n",
    "    {'event': 'Weihnachts', 'months': [11, 12]}\n",
    "]\n",
    "\n",
    "for i in range(1, num_campaigns + 1):\n",
    "    template = random.choice(campaign_templates)\n",
    "    year = random.randint(current_year - 2, current_year)\n",
    "    month = random.choice(template['months'])\n",
    "    day = random.randint(1, 28)\n",
    "    start_date = date(year, month, day)\n",
    "    campaign_duration = timedelta(days = random.randint(7, 30))\n",
    "    end_date = start_date + campaign_duration\n",
    "    campaign_name = f\"{template['event']}-{random.choice(campaign_types)} {year}\"\n",
    "    \n",
    "    marketing_data.append({\n",
    "        'campaign_id' : i,\n",
    "        'campaign_name' : campaign_name,\n",
    "        'start_date' : start_date,\n",
    "        'end_date' : end_date\n",
    "    })\n",
    "\n",
    "marketing_df = pd.DataFrame(marketing_data)\n",
    "\n",
    "marketing_df = marketing_df.sort_values(by='start_date')\n",
    "\n",
    "marketing_df.to_csv('marketing.csv', index = False)\n",
    "\n",
    "print('marketing.csv successuflly generated')"
   ]
  },
  {
   "cell_type": "code",
   "execution_count": 18,
   "id": "18240f0e-c007-480a-8ce0-f241f71069d8",
   "metadata": {},
   "outputs": [
    {
     "data": {
      "text/html": [
       "<div>\n",
       "<style scoped>\n",
       "    .dataframe tbody tr th:only-of-type {\n",
       "        vertical-align: middle;\n",
       "    }\n",
       "\n",
       "    .dataframe tbody tr th {\n",
       "        vertical-align: top;\n",
       "    }\n",
       "\n",
       "    .dataframe thead th {\n",
       "        text-align: right;\n",
       "    }\n",
       "</style>\n",
       "<table border=\"1\" class=\"dataframe\">\n",
       "  <thead>\n",
       "    <tr style=\"text-align: right;\">\n",
       "      <th></th>\n",
       "      <th>customer_id</th>\n",
       "      <th>join_date</th>\n",
       "      <th>city</th>\n",
       "      <th>postal_code</th>\n",
       "    </tr>\n",
       "  </thead>\n",
       "  <tbody>\n",
       "    <tr>\n",
       "      <th>0</th>\n",
       "      <td>1</td>\n",
       "      <td>2022-12-18</td>\n",
       "      <td>Angermünde</td>\n",
       "      <td>65619</td>\n",
       "    </tr>\n",
       "    <tr>\n",
       "      <th>1</th>\n",
       "      <td>2</td>\n",
       "      <td>2024-05-02</td>\n",
       "      <td>Ingolstadt</td>\n",
       "      <td>32163</td>\n",
       "    </tr>\n",
       "    <tr>\n",
       "      <th>2</th>\n",
       "      <td>3</td>\n",
       "      <td>2023-08-10</td>\n",
       "      <td>Wolmirstedt</td>\n",
       "      <td>41064</td>\n",
       "    </tr>\n",
       "    <tr>\n",
       "      <th>3</th>\n",
       "      <td>4</td>\n",
       "      <td>2023-03-08</td>\n",
       "      <td>Griesbach Rottal</td>\n",
       "      <td>13914</td>\n",
       "    </tr>\n",
       "    <tr>\n",
       "      <th>4</th>\n",
       "      <td>5</td>\n",
       "      <td>2024-08-19</td>\n",
       "      <td>Einbeck</td>\n",
       "      <td>32846</td>\n",
       "    </tr>\n",
       "    <tr>\n",
       "      <th>...</th>\n",
       "      <td>...</td>\n",
       "      <td>...</td>\n",
       "      <td>...</td>\n",
       "      <td>...</td>\n",
       "    </tr>\n",
       "    <tr>\n",
       "      <th>4995</th>\n",
       "      <td>4996</td>\n",
       "      <td>2023-08-21</td>\n",
       "      <td>Nabburg</td>\n",
       "      <td>92468</td>\n",
       "    </tr>\n",
       "    <tr>\n",
       "      <th>4996</th>\n",
       "      <td>4997</td>\n",
       "      <td>2024-03-11</td>\n",
       "      <td>Angermünde</td>\n",
       "      <td>34313</td>\n",
       "    </tr>\n",
       "    <tr>\n",
       "      <th>4997</th>\n",
       "      <td>4998</td>\n",
       "      <td>2022-12-23</td>\n",
       "      <td>Perleberg</td>\n",
       "      <td>25825</td>\n",
       "    </tr>\n",
       "    <tr>\n",
       "      <th>4998</th>\n",
       "      <td>4999</td>\n",
       "      <td>2024-02-02</td>\n",
       "      <td>Dessau</td>\n",
       "      <td>89743</td>\n",
       "    </tr>\n",
       "    <tr>\n",
       "      <th>4999</th>\n",
       "      <td>5000</td>\n",
       "      <td>2023-11-07</td>\n",
       "      <td>Auerbach</td>\n",
       "      <td>45271</td>\n",
       "    </tr>\n",
       "  </tbody>\n",
       "</table>\n",
       "<p>5000 rows × 4 columns</p>\n",
       "</div>"
      ],
      "text/plain": [
       "      customer_id   join_date              city postal_code\n",
       "0               1  2022-12-18        Angermünde       65619\n",
       "1               2  2024-05-02        Ingolstadt       32163\n",
       "2               3  2023-08-10       Wolmirstedt       41064\n",
       "3               4  2023-03-08  Griesbach Rottal       13914\n",
       "4               5  2024-08-19           Einbeck       32846\n",
       "...           ...         ...               ...         ...\n",
       "4995         4996  2023-08-21           Nabburg       92468\n",
       "4996         4997  2024-03-11        Angermünde       34313\n",
       "4997         4998  2022-12-23         Perleberg       25825\n",
       "4998         4999  2024-02-02            Dessau       89743\n",
       "4999         5000  2023-11-07          Auerbach       45271\n",
       "\n",
       "[5000 rows x 4 columns]"
      ]
     },
     "execution_count": 18,
     "metadata": {},
     "output_type": "execute_result"
    }
   ],
   "source": [
    "customers_df"
   ]
  },
  {
   "cell_type": "code",
   "execution_count": null,
   "id": "385fadea-1b07-4ee3-8d9b-46a8e4a68603",
   "metadata": {},
   "outputs": [],
   "source": []
  }
 ],
 "metadata": {
  "kernelspec": {
   "display_name": "Python 3 (ipykernel)",
   "language": "python",
   "name": "python3"
  },
  "language_info": {
   "codemirror_mode": {
    "name": "ipython",
    "version": 3
   },
   "file_extension": ".py",
   "mimetype": "text/x-python",
   "name": "python",
   "nbconvert_exporter": "python",
   "pygments_lexer": "ipython3",
   "version": "3.13.5"
  }
 },
 "nbformat": 4,
 "nbformat_minor": 5
}
